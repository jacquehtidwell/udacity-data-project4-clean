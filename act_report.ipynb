{
 "cells": [
  {
   "cell_type": "markdown",
   "metadata": {},
   "source": [
    "# Analyzing and Visualizing WeRateDogs Twitter Data"
   ]
  },
  {
   "cell_type": "markdown",
   "metadata": {},
   "source": [
    "## Introduction\n",
    "Since 2015, when the WeRateDogs Twitter Profile was launched, many people (like myself) have interacted with the hilarious posts submitted for inclusion in this particular Twitter archive that provide images of dogs along with hilarious descriptions and ratings--typically from 0 to 10, but most of them exceed the maximum as an inherent joke in this community. Until completing the Udacity Data Analyst Nanodegree did I ever consider looking at the WeRateDogs Twitter Archive in aggregate to see what trends might emerge from this complex, and rich, dataset. \n",
    "\n",
    "After performing various data gathering, assessment, and cleaning activities, the resulting dataset aggregated from the WeRateDogs Twitter Archive, Udacity Breed Predictions, and Twitter Activity Data, the __[twitter_archive_cleaned.csv]('twitter_archive_cleaned.csv')__ file contains 1,963 observations with 21 individual variables. \n",
    "\n",
    "While many different inquiries can be made into this data, I limited my analysis to answering the following questions:\n",
    "\n",
    ">1. Are Retweet, Favorite,and Rating Numerator values correlated with one another?\n",
    ">2. What are the most popular dog names within the WeRateDogs Twitter Archive?\n",
    ">3. What are the most popular *The Dogtionary* stages within the WeRateDogs Twitter Archive?\n",
    ">4. What are the most frequently retweeted *The Dogtionary* stages?\n",
    ">5. What are the most popular dog names for *The Dogtionary* *pupper* stage?\n",
    ">6. What are the most frequently retweeted dog breeds within the WeRateDogs Twitter archive?\n",
    "\n",
    "In the sections that follow, I will share the results of my inquiry to address these questions and provide visualizations that help to tell that story."
   ]
  },
  {
   "cell_type": "markdown",
   "metadata": {},
   "source": [
    "## 1 Are Retweet, Favorite, and Rating Numerator Correlated?\n",
    "\n",
    "\n",
    "In order to determine whether or not any correlations existed between retweet count, favorite count, or rating numerator assigned by the tweet author, I created a correlation matrix to examine the trends. \n",
    "\n",
    "First, I plotted the distributions of retweets and favorites.\n",
    "\n",
    "<img src=\"viz/retweet-distribution.png\" alt=\"Retweet Distribution Chart and Boxplot\" title=\"WeRateDogs Retweet Distribution Chart and Boxplot\" />\n",
    "\n",
    "<img src=\"viz/fav-distribution.png\" alt=\"Favorites Distribution Chart and Boxplot\" title=\"WeRateDogs Favorites Distribution Chart and Boxplot\" />\n",
    "\n",
    "When we look at these  histograms of the retweet and favorite frequencies of the tweets in this archive, we see that this behavior is logorithmic in nature. Before we can compare these two factors to one another and see how exactly they are related, we should first perform a logorithmic transformation.\n",
    "\n",
    "<img src=\"viz/fav-retweet-trans.png\" alt=\"Retweet and Favorites Distribution Chart Before and After Transformation\" title=\"WeRateDogs Retweet and Favorites Distribution Chart Before and After Transformation\" />\n",
    "\n",
    "What becomes apparent, and confirms conventional logic, is that the median favorite count is slightly higher than that of retweet frequency. This observation makes sense, as \"Favorites\" are considered a lesser social endorsement than that of a \"Retweet.\" \n",
    "\n",
    "I also was curious as to whether or not there was a correlation between retweets, favorites, and rating numerator, so I created a correlation matrix. \n",
    "\n",
    "<img src=\"viz/heatmap.png\" alt=\"Correlation Heatmap Matrix for Retweet, Favorites, and Rating Numerator\" title=\"WeRateDogs Correlation Heatmap Matrix for Retweet, Favorites, and Rating Numerator\" />\n",
    "\n",
    "The output of this analysis confirms the observation made in the distribution histograms and boxplots that show there is a relationship between the number of retweets and favorites for a particular tweet, but there is no correlation of either of those factors with the rating numerator a given author of a tweet assigned. This observation was expected, as the rating numerator data is an artifact of the humorous nature of these tweets--rather than being a true assessment metric.\n",
    "\n",
    "From our earlier analysis, we also know that retweet and favorite frequencies are correlated with one another, but what exactly is the nature of that correlation?\n",
    "\n",
    "<img src=\"viz/scatterplot.png\" alt=\"Retweet and Favorites Scatterplot\" title=\"WeRateDogs Retweet and Favorites Scatterplot\" />\n",
    "\n",
    "In this image, we see that as retweets increase, so do favorites. Again, this observation makes sense. However, what we do see is that this relationship has the most benefit betwen 0 and approximately 250,000 retweets. After that point, fewer tweets garner additional retweets and favorites."
   ]
  },
  {
   "cell_type": "markdown",
   "metadata": {},
   "source": [
    "## 2 What Are the Most Popular Dog Names?\n",
    "\n",
    "Another question that we can investigate in this dataset is regarding to what are the most popular dog names used on WeRateDogs.\n",
    "\n",
    "When we look at the data in aggregate, we see that there is a HUGE amount of variation in the names that are used. To be exact, there are 926 unique names used and observed in the WeRateDogs Twitter Archive.\n",
    "\n",
    "Moreover, the frequency of dog names appears to be logorithmic in nature. Roughly, it appears that 10% of the dog names in WeRateDogs are used 90% of the time--and 10% of the names are only used 90% of the time.\n",
    "\n",
    "When we zoom in to look at the top 20 names, we see are able to see that there are some expected--and interesting--names in the mix (I even found one of my dogs' names in the mix: Daisy).\n",
    "\n",
    "<img src=\"viz/name-bar.png\" alt=\"Top 20 Dog Names with Respect to Count\" title=\"WeRateDogs Top 20 Dog Names with Respect to Count Bar Chart\" />\n",
    "\n",
    "When we look at this data as a table, we see that the most frequently used names in this dataset (other than no name being used at all) are Cooper, Oliver, and Charlie. \n",
    "\n",
    "<div class=\"alert alert-block alert-success\">\n",
    "<b>Top 20 Dog Names</b> \n",
    "<br>1. Cooper (10)\n",
    "<br>1. Oliver (10)\n",
    "<br>1. Charlie (10)\n",
    "<br>4. Penny (9)\n",
    "<br>4. Lucy (9) \n",
    "<br>4. Tucker (9)\n",
    "<br>7. Winston (8)\n",
    "<br>7. Sadie (8)\n",
    "<br>9. Lola (7)\n",
    "<br>9. Toby (7)\n",
    "<br>9. Daisy (7) \n",
    "<br>12. Jax (6)\n",
    "<br>12. Koda (6)\n",
    "<br>12. Stanley (6)\n",
    "<br>12. Bella (6)\n",
    "<br>12. Bo (6)\n",
    "<br>17. Rusty (5)\n",
    "<br>17. Buddy (5)\n",
    "<br>17. Chester (5) \n",
    "<br>17. Louis (5)\n",
    "</div>"
   ]
  },
  {
   "cell_type": "markdown",
   "metadata": {},
   "source": [
    "## 3 What Are the Most Popular The Dogtionary Stages?\n",
    "\n",
    "One of the more entertaining aspects of WeRateDogs as a Twitter entity are the stages of dog-ness as outlined in *The Dogtionary*. Namely for this dataset, the tweets were observed as referencing a **pupper, doggo, puppo, floofer,** or none at all. \n",
    "\n",
    "<img src=\"viz/stage-bar.png\" alt=\"The Dogtionary Stage with Respect to Count\" title=\"WeRateDogs The Dogtionary Stage with Respect to Count Bar Chart\" />\n",
    "\n",
    "When we look at these counts in aggregate, we see that most of the time WeRateDogs Tweets did not have a stage declared. However when we dive further into the data and eliminate the observations that do not contain a stage, we see a very interesting breakdown.\n",
    "\n",
    "<img src=\"viz/stage-pie.png\" alt=\"The Dogtionary Stage Pie Chart\" title=\"WeRateDogs The Dogtionary Stage Pie Chart\" />\n",
    "\n",
    "As you can see in this visualization 67.0% of tweets containing a *Dogtionary* stage were that of \"pupper.\" \"Doggos\" were the next most frequent stage at 23.1%. \"Fluffers\" and \"puppos\" were referenced the least (both of them leading to a combined 10% of the total stages named). Thus, \"puppers\" are the most frequently referred to stage (when a stage was mentioned) in the WeRateDogs Twitter Archive."
   ]
  },
  {
   "cell_type": "markdown",
   "metadata": {},
   "source": [
    "## 4 What Are the Most Popular Names also Referenced with *The Dogtionary* Pupper Stage?\n",
    "\n",
    "When we zoom into the tweets that reference a \"pupper,\" we see that there is great variation in the names of those \"puppers.\"\n",
    "\n",
    "<img src=\"viz/pupper-name-bar.png\" alt=\"Pupper Dog Name with Respect to Count\" title=\"WeRateDogs Dog Name with Respect to Count for Pupper Stage Bar Chart\" />\n",
    "Of the 112 names used to describe puppers, only five names were used more than once:\n",
    "- Milo (2)\n",
    "- Gus (2)\n",
    "- Cooper (2)\n",
    "- Pickles (2)\n",
    "- Chuckles (2)\n",
    "\n",
    "Thus, there are no correlations between name and being a \"pupper.\""
   ]
  },
  {
   "cell_type": "markdown",
   "metadata": {},
   "source": [
    "## 5 What Are the Most Frequently Retweeted Dog Breeds?\n",
    "\n",
    "Another question I had about this dataset is which breeds are the ones most frequently retweeted.\n",
    "\n",
    "<img src=\"viz/breed-predict-retweet-bar.png\" alt=\"Udacity Breed Prediction with Respect to WeRateDogs Retweet Count\" title=\"Udacity Breed Prediction with Respect to WeRateDogs Retweet Count Bar Chart\" />\n",
    "\n",
    "When we look at the counts of the first order predictions of breed from the Udacity Breed Prediction dataset as a function of retweets, we see that Golden Retrievers and Labrador Retrievers are the predicted breeds of the most frequently retweeted tweets--followed by Pembrokes, Chihuahuas, and Samoyeds."
   ]
  },
  {
   "cell_type": "code",
   "execution_count": null,
   "metadata": {},
   "outputs": [],
   "source": []
  }
 ],
 "metadata": {
  "kernelspec": {
   "display_name": "Python 3",
   "language": "python",
   "name": "python3"
  },
  "language_info": {
   "codemirror_mode": {
    "name": "ipython",
    "version": 3
   },
   "file_extension": ".py",
   "mimetype": "text/x-python",
   "name": "python",
   "nbconvert_exporter": "python",
   "pygments_lexer": "ipython3",
   "version": "3.7.3"
  }
 },
 "nbformat": 4,
 "nbformat_minor": 2
}
